{
  "nbformat": 4,
  "nbformat_minor": 0,
  "metadata": {
    "colab": {
      "provenance": [],
      "toc_visible": true
    },
    "kernelspec": {
      "name": "python3",
      "display_name": "Python 3"
    },
    "language_info": {
      "name": "python"
    }
  },
  "cells": [
    {
      "cell_type": "markdown",
      "source": [
        "# Scraping data from Transfermarkt\n",
        "The following section outlines the steps taken to scrape all necessary data from the Transfermarkt website."
      ],
      "metadata": {
        "id": "eIDD8TtqAUay"
      }
    },
    {
      "cell_type": "markdown",
      "source": [
        "###Import all dependencies\n",
        "We must first import the necessary Python packages and libraries needed for the web scraping process."
      ],
      "metadata": {
        "id": "O9V0qu7e_RBl"
      }
    },
    {
      "cell_type": "code",
      "execution_count": null,
      "metadata": {
        "id": "Kx13pyDt-qVm"
      },
      "outputs": [],
      "source": [
        "import re\n",
        "import requests\n",
        "from bs4 import BeautifulSoup as bs\n",
        "import pandas as pd\n",
        "import numpy as np\n",
        "\n",
        "pd.set_option('notebook_repr_html', True)"
      ]
    },
    {
      "cell_type": "markdown",
      "source": [
        "Now let's import the necessary HTTP request parameters for scraping from Transfermarkt. \n",
        "\n",
        "**NOTE: This will work regardless of your computer specifications.**"
      ],
      "metadata": {
        "id": "Pq35KviC_Whg"
      }
    },
    {
      "cell_type": "code",
      "source": [
        "headers = {'User-Agent': 'Mozilla/5.0 (Macintosh; Intel Mac OS X 10_11_6) AppleWebKit/537.36 (KHTML, like Gecko) Chrome/61.0.3163.100 Safari/537.36'}\n",
        "#league = ['GB1','FR1','L1','IT1','ES1']\n",
        "league = ['MLS1', 'PO1', 'NL1', 'GB2', 'BRA1', 'MEX1']\n",
        "league_page = \"https://www.transfermarkt.com/jumplist/startseite/wettbewerb/\""
      ],
      "metadata": {
        "id": "_nZeQjOcA8tp"
      },
      "execution_count": null,
      "outputs": []
    },
    {
      "cell_type": "markdown",
      "source": [
        "The 'league' array specifies the unique ID's for the soccer leagues that are used for GET requests on the Transfermarkt website. \n",
        "\n",
        "We have chosen to only include Europe's **top 5 leagues** based on [country coefficient](https://www.uefa.com/nationalassociations/uefarankings/country/#/yr/2023)."
      ],
      "metadata": {
        "id": "lNHh2Di9NvVm"
      }
    },
    {
      "cell_type": "markdown",
      "source": [
        "### Retrieving club and player information\n",
        "\n",
        "Below you will find two functions to return football clubs and information on individual players within each club."
      ],
      "metadata": {
        "id": "7zfonI_fIciK"
      }
    },
    {
      "cell_type": "code",
      "source": [
        "def get_club_details(tr_tag):\n",
        "    club = tr_tag.find_all('a')[0]\n",
        "    club_link = club['href']\n",
        "    club_name = club['title']\n",
        "    return tuple((club_link,club_name))\n",
        "\n",
        "def get_players_club(player):\n",
        "    player_link = player['href']\n",
        "    player_name = player.get_text()\n",
        "    return tuple((player_link,player_name,club_name))\n"
      ],
      "metadata": {
        "id": "cwi4xTcWIhh5"
      },
      "execution_count": null,
      "outputs": []
    },
    {
      "cell_type": "markdown",
      "source": [
        "#### Step 1: Retrieve all clubs from specified leagues in 'league' array."
      ],
      "metadata": {
        "id": "Zozr7X4Tnskp"
      }
    },
    {
      "cell_type": "code",
      "source": [
        "clubs_list = []\n",
        "for league_id in league:\n",
        "    page = requests.get(league_page + league_id,headers = headers)\n",
        "    soup = bs(page.content, 'html.parser')\n",
        "    tbody_container = soup.find_all('tbody')[1]\n",
        "    tr_container = tbody_container.find_all('tr')\n",
        "    for tr_tag in tr_container :\n",
        "        clubs_list.append(get_club_details(tr_tag))\n",
        "print('All the clubs were uploaded')"
      ],
      "metadata": {
        "colab": {
          "base_uri": "https://localhost:8080/"
        },
        "id": "vBqoHo0AcMbU",
        "outputId": "2f5e8b3f-08c0-4432-93d9-7eba02c0e7b2"
      },
      "execution_count": null,
      "outputs": [
        {
          "output_type": "stream",
          "name": "stdout",
          "text": [
            "All the clubs were uploaded\n"
          ]
        }
      ]
    },
    {
      "cell_type": "markdown",
      "source": [
        "#### Step 2: Retrieve all basic player information for each player within the specified clubs."
      ],
      "metadata": {
        "id": "p21EQCxedUzW"
      }
    },
    {
      "cell_type": "code",
      "source": [
        "url_site = \"https://www.transfermarkt.com\"\n",
        "player_list = []\n",
        "for club_link,club_name in clubs_list:\n",
        "    page = requests.get(url_site + club_link,headers = headers)\n",
        "    soup = bs(page.content, 'html.parser')\n",
        "    tbody_container = soup.find_all('tbody')[1]\n",
        "    players_td = tbody_container.find_all('td', {\"class\":\"hauptlink\"})\n",
        "    for p in players_td[::2]:\n",
        "        player = p.find_all('a')[0]\n",
        "        player_list.append(get_players_club(player))\n",
        "print('All the players were uploaded')\n"
      ],
      "metadata": {
        "colab": {
          "base_uri": "https://localhost:8080/"
        },
        "id": "yy9KM5IxJPop",
        "outputId": "4ceb9fa1-92b2-4138-f594-187e433675bd"
      },
      "execution_count": null,
      "outputs": [
        {
          "output_type": "stream",
          "name": "stdout",
          "text": [
            "All the players were uploaded\n"
          ]
        }
      ]
    },
    {
      "cell_type": "markdown",
      "source": [
        "The function below retrieves more in-depth information on each player."
      ],
      "metadata": {
        "id": "79xNqflYdquO"
      }
    },
    {
      "cell_type": "code",
      "source": [
        "from ast import Pass\n",
        "def get_profil_detail():\n",
        "    return tuple((link.split(\"/\")[4],name,club,link.split(\"/\")[1]))"
      ],
      "metadata": {
        "id": "YL6sUd-TTxcx"
      },
      "execution_count": null,
      "outputs": []
    },
    {
      "cell_type": "markdown",
      "source": [
        "#### Step 3: Retrieve in-depth information for each player within the specified clubs."
      ],
      "metadata": {
        "id": "7XV42ul9elTe"
      }
    },
    {
      "cell_type": "code",
      "source": [
        "counter = 1\n",
        "total = str(len(player_list))\n",
        "player_details = []\n",
        "for link,name,club in player_list:\n",
        "      player_details.append(get_profil_detail())\n",
        "      count = str(counter)\n",
        "      print(f\"Player {counter} out of {total} uploaded.\")\n",
        "      counter += 1\n",
        "print(\"Basic player details were uploaded\")"
      ],
      "metadata": {
        "id": "sFZGfwFlrV8c"
      },
      "execution_count": null,
      "outputs": []
    },
    {
      "cell_type": "code",
      "source": [
        "player_details[2856]"
      ],
      "metadata": {
        "colab": {
          "base_uri": "https://localhost:8080/"
        },
        "id": "dFCborNNuGQ3",
        "outputId": "6658ea6f-0603-4fb3-c1c2-0a6e66d631ee"
      },
      "execution_count": null,
      "outputs": [
        {
          "output_type": "execute_result",
          "data": {
            "text/plain": [
              "('863033', 'Márcio Silva', 'Coritiba Foot Ball Club', 'marcio-silva')"
            ]
          },
          "metadata": {},
          "execution_count": 29
        }
      ]
    },
    {
      "cell_type": "markdown",
      "source": [
        "The function below retrieves information on past appearance and injury history."
      ],
      "metadata": {
        "id": "Nm44XO-IewTr"
      }
    },
    {
      "cell_type": "code",
      "source": [
        "def get_injuries_details(soup):\n",
        "\n",
        "    inj_his = soup.find_all('span', {\"class\":\"empty\"})\n",
        "    if inj_his:\n",
        "        if (inj_his[0].get_text() == 'No entries available'):\n",
        "            return []\n",
        "\n",
        "    try:\n",
        "      tbody_container = soup.find_all('tbody')[0]\n",
        "    except:\n",
        "      return []\n",
        "      \n",
        "    tr_container = tbody_container.find_all('tr')\n",
        "    injuries_list = []\n",
        "    for tr_tag in tr_container:\n",
        "        season = tr_tag.find_all('td')[0].get_text()\n",
        "        injury = tr_tag.find_all('td')[1].get_text()\n",
        "        start_date = tr_tag.find_all('td')[2].get_text()\n",
        "        end_date = tr_tag.find_all('td')[3].get_text()\n",
        "        time_out = tr_tag.find_all('td')[4]\n",
        "        games_missed = tr_tag.find_all('td')[5].get_text() \n",
        "        games_missed = 0 if games_missed == '-' else games_missed\n",
        "        injuries_list.append(tuple((season,injury,start_date,end_date,time_out.get_text().split()[0],games_missed)))\n",
        "    return injuries_list"
      ],
      "metadata": {
        "id": "vZI__krTrbUi"
      },
      "execution_count": null,
      "outputs": []
    },
    {
      "cell_type": "markdown",
      "source": [
        "#### Step 4: Retrieve past appearance and injury history for each player within the specified clubs."
      ],
      "metadata": {
        "id": "hUKvP5x3fHZ-"
      }
    },
    {
      "cell_type": "code",
      "source": [
        "player_list = []\n",
        "total_players = len(player_details)\n",
        "counter = 1\n",
        "removed = 0\n",
        "\n",
        "for Id,name,club,name_link in player_details:\n",
        "    headers = {'User-Agent': 'Mozilla/5.0 (Macintosh; Intel Mac OS X 10_11_6) AppleWebKit/537.36 (KHTML, like Gecko) Chrome/61.0.3163.100 Safari/537.36'}\n",
        "\n",
        "    page1 = requests.get(\"https://www.transfermarkt.com/{}/verletzungen/spieler/{}\".format(name_link,Id),headers=headers)\n",
        "    soup = bs(page1.content, 'html.parser')\n",
        "    injury_details = get_injuries_details(soup)\n",
        "\n",
        "    print(f'Player {counter} out of {total_players} uploaded.')\n",
        "    counter+=1\n",
        "\n",
        "    player_list.append(tuple((Id,name,club,injury_details)))\n",
        "\n",
        "print('Player appearance and injury details were uploaded')\n",
        "df_player = pd.DataFrame(player_list)\n",
        "df_player.to_csv('transfermarkt_data.csv')"
      ],
      "metadata": {
        "id": "FN05eJOGs-j8"
      },
      "execution_count": null,
      "outputs": []
    },
    {
      "cell_type": "code",
      "source": [
        "df_player = pd.DataFrame(player_list)\n",
        "df_player"
      ],
      "metadata": {
        "colab": {
          "base_uri": "https://localhost:8080/",
          "height": 424
        },
        "id": "M5VUdxTtkHG0",
        "outputId": "301e714a-d7ba-4a60-9889-8ce9154491a5"
      },
      "execution_count": null,
      "outputs": [
        {
          "output_type": "execute_result",
          "data": {
            "text/plain": [
              "           0                    1                 2  \\\n",
              "0     126630         Sean Johnson  New York City FC   \n",
              "1     644782         Luis Barraza  New York City FC   \n",
              "2     297422          Cody Mizell  New York City FC   \n",
              "3     277318       Thiago Martins  New York City FC   \n",
              "4     147462    Alexander Callens  New York City FC   \n",
              "...      ...                  ...               ...   \n",
              "3548  370858     Antonio Figueroa      Querétaro FC   \n",
              "3549  395164          José Angulo      Querétaro FC   \n",
              "3550   68562      Ariel Nahuelpán      Querétaro FC   \n",
              "3551  403747  Jonathan Dos Santos      Querétaro FC   \n",
              "3552  945935          Ettson Ayón      Querétaro FC   \n",
              "\n",
              "                                                      3  \n",
              "0     [(18/19, Shoulder Injury, Aug 1, 2018, Aug 15,...  \n",
              "1                                                    []  \n",
              "2                                                    []  \n",
              "3     [(21/22, Bruise, Aug 20, 2021, Aug 29, 2021, 9...  \n",
              "4     [(18/19, Muscle Injury, Apr 1, 2019, Apr 18, 2...  \n",
              "...                                                 ...  \n",
              "3548                                                 []  \n",
              "3549  [(21/22, Pubitis, Oct 25, 2021, Nov 18, 2021, ...  \n",
              "3550  [(20/21, Calf Injury, May 20, 2021, Jun 10, 20...  \n",
              "3551  [(20/21, Torn muscle bundle, Oct 16, 2020, Nov...  \n",
              "3552                                                 []  \n",
              "\n",
              "[3553 rows x 4 columns]"
            ],
            "text/html": [
              "\n",
              "  <div id=\"df-abd41a19-92f1-45c5-99da-0a33f75aa325\">\n",
              "    <div class=\"colab-df-container\">\n",
              "      <div>\n",
              "<style scoped>\n",
              "    .dataframe tbody tr th:only-of-type {\n",
              "        vertical-align: middle;\n",
              "    }\n",
              "\n",
              "    .dataframe tbody tr th {\n",
              "        vertical-align: top;\n",
              "    }\n",
              "\n",
              "    .dataframe thead th {\n",
              "        text-align: right;\n",
              "    }\n",
              "</style>\n",
              "<table border=\"1\" class=\"dataframe\">\n",
              "  <thead>\n",
              "    <tr style=\"text-align: right;\">\n",
              "      <th></th>\n",
              "      <th>0</th>\n",
              "      <th>1</th>\n",
              "      <th>2</th>\n",
              "      <th>3</th>\n",
              "    </tr>\n",
              "  </thead>\n",
              "  <tbody>\n",
              "    <tr>\n",
              "      <th>0</th>\n",
              "      <td>126630</td>\n",
              "      <td>Sean Johnson</td>\n",
              "      <td>New York City FC</td>\n",
              "      <td>[(18/19, Shoulder Injury, Aug 1, 2018, Aug 15,...</td>\n",
              "    </tr>\n",
              "    <tr>\n",
              "      <th>1</th>\n",
              "      <td>644782</td>\n",
              "      <td>Luis Barraza</td>\n",
              "      <td>New York City FC</td>\n",
              "      <td>[]</td>\n",
              "    </tr>\n",
              "    <tr>\n",
              "      <th>2</th>\n",
              "      <td>297422</td>\n",
              "      <td>Cody Mizell</td>\n",
              "      <td>New York City FC</td>\n",
              "      <td>[]</td>\n",
              "    </tr>\n",
              "    <tr>\n",
              "      <th>3</th>\n",
              "      <td>277318</td>\n",
              "      <td>Thiago Martins</td>\n",
              "      <td>New York City FC</td>\n",
              "      <td>[(21/22, Bruise, Aug 20, 2021, Aug 29, 2021, 9...</td>\n",
              "    </tr>\n",
              "    <tr>\n",
              "      <th>4</th>\n",
              "      <td>147462</td>\n",
              "      <td>Alexander Callens</td>\n",
              "      <td>New York City FC</td>\n",
              "      <td>[(18/19, Muscle Injury, Apr 1, 2019, Apr 18, 2...</td>\n",
              "    </tr>\n",
              "    <tr>\n",
              "      <th>...</th>\n",
              "      <td>...</td>\n",
              "      <td>...</td>\n",
              "      <td>...</td>\n",
              "      <td>...</td>\n",
              "    </tr>\n",
              "    <tr>\n",
              "      <th>3548</th>\n",
              "      <td>370858</td>\n",
              "      <td>Antonio Figueroa</td>\n",
              "      <td>Querétaro FC</td>\n",
              "      <td>[]</td>\n",
              "    </tr>\n",
              "    <tr>\n",
              "      <th>3549</th>\n",
              "      <td>395164</td>\n",
              "      <td>José Angulo</td>\n",
              "      <td>Querétaro FC</td>\n",
              "      <td>[(21/22, Pubitis, Oct 25, 2021, Nov 18, 2021, ...</td>\n",
              "    </tr>\n",
              "    <tr>\n",
              "      <th>3550</th>\n",
              "      <td>68562</td>\n",
              "      <td>Ariel Nahuelpán</td>\n",
              "      <td>Querétaro FC</td>\n",
              "      <td>[(20/21, Calf Injury, May 20, 2021, Jun 10, 20...</td>\n",
              "    </tr>\n",
              "    <tr>\n",
              "      <th>3551</th>\n",
              "      <td>403747</td>\n",
              "      <td>Jonathan Dos Santos</td>\n",
              "      <td>Querétaro FC</td>\n",
              "      <td>[(20/21, Torn muscle bundle, Oct 16, 2020, Nov...</td>\n",
              "    </tr>\n",
              "    <tr>\n",
              "      <th>3552</th>\n",
              "      <td>945935</td>\n",
              "      <td>Ettson Ayón</td>\n",
              "      <td>Querétaro FC</td>\n",
              "      <td>[]</td>\n",
              "    </tr>\n",
              "  </tbody>\n",
              "</table>\n",
              "<p>3553 rows × 4 columns</p>\n",
              "</div>\n",
              "      <button class=\"colab-df-convert\" onclick=\"convertToInteractive('df-abd41a19-92f1-45c5-99da-0a33f75aa325')\"\n",
              "              title=\"Convert this dataframe to an interactive table.\"\n",
              "              style=\"display:none;\">\n",
              "        \n",
              "  <svg xmlns=\"http://www.w3.org/2000/svg\" height=\"24px\"viewBox=\"0 0 24 24\"\n",
              "       width=\"24px\">\n",
              "    <path d=\"M0 0h24v24H0V0z\" fill=\"none\"/>\n",
              "    <path d=\"M18.56 5.44l.94 2.06.94-2.06 2.06-.94-2.06-.94-.94-2.06-.94 2.06-2.06.94zm-11 1L8.5 8.5l.94-2.06 2.06-.94-2.06-.94L8.5 2.5l-.94 2.06-2.06.94zm10 10l.94 2.06.94-2.06 2.06-.94-2.06-.94-.94-2.06-.94 2.06-2.06.94z\"/><path d=\"M17.41 7.96l-1.37-1.37c-.4-.4-.92-.59-1.43-.59-.52 0-1.04.2-1.43.59L10.3 9.45l-7.72 7.72c-.78.78-.78 2.05 0 2.83L4 21.41c.39.39.9.59 1.41.59.51 0 1.02-.2 1.41-.59l7.78-7.78 2.81-2.81c.8-.78.8-2.07 0-2.86zM5.41 20L4 18.59l7.72-7.72 1.47 1.35L5.41 20z\"/>\n",
              "  </svg>\n",
              "      </button>\n",
              "      \n",
              "  <style>\n",
              "    .colab-df-container {\n",
              "      display:flex;\n",
              "      flex-wrap:wrap;\n",
              "      gap: 12px;\n",
              "    }\n",
              "\n",
              "    .colab-df-convert {\n",
              "      background-color: #E8F0FE;\n",
              "      border: none;\n",
              "      border-radius: 50%;\n",
              "      cursor: pointer;\n",
              "      display: none;\n",
              "      fill: #1967D2;\n",
              "      height: 32px;\n",
              "      padding: 0 0 0 0;\n",
              "      width: 32px;\n",
              "    }\n",
              "\n",
              "    .colab-df-convert:hover {\n",
              "      background-color: #E2EBFA;\n",
              "      box-shadow: 0px 1px 2px rgba(60, 64, 67, 0.3), 0px 1px 3px 1px rgba(60, 64, 67, 0.15);\n",
              "      fill: #174EA6;\n",
              "    }\n",
              "\n",
              "    [theme=dark] .colab-df-convert {\n",
              "      background-color: #3B4455;\n",
              "      fill: #D2E3FC;\n",
              "    }\n",
              "\n",
              "    [theme=dark] .colab-df-convert:hover {\n",
              "      background-color: #434B5C;\n",
              "      box-shadow: 0px 1px 3px 1px rgba(0, 0, 0, 0.15);\n",
              "      filter: drop-shadow(0px 1px 2px rgba(0, 0, 0, 0.3));\n",
              "      fill: #FFFFFF;\n",
              "    }\n",
              "  </style>\n",
              "\n",
              "      <script>\n",
              "        const buttonEl =\n",
              "          document.querySelector('#df-abd41a19-92f1-45c5-99da-0a33f75aa325 button.colab-df-convert');\n",
              "        buttonEl.style.display =\n",
              "          google.colab.kernel.accessAllowed ? 'block' : 'none';\n",
              "\n",
              "        async function convertToInteractive(key) {\n",
              "          const element = document.querySelector('#df-abd41a19-92f1-45c5-99da-0a33f75aa325');\n",
              "          const dataTable =\n",
              "            await google.colab.kernel.invokeFunction('convertToInteractive',\n",
              "                                                     [key], {});\n",
              "          if (!dataTable) return;\n",
              "\n",
              "          const docLinkHtml = 'Like what you see? Visit the ' +\n",
              "            '<a target=\"_blank\" href=https://colab.research.google.com/notebooks/data_table.ipynb>data table notebook</a>'\n",
              "            + ' to learn more about interactive tables.';\n",
              "          element.innerHTML = '';\n",
              "          dataTable['output_type'] = 'display_data';\n",
              "          await google.colab.output.renderOutput(dataTable, element);\n",
              "          const docLink = document.createElement('div');\n",
              "          docLink.innerHTML = docLinkHtml;\n",
              "          element.appendChild(docLink);\n",
              "        }\n",
              "      </script>\n",
              "    </div>\n",
              "  </div>\n",
              "  "
            ]
          },
          "metadata": {},
          "execution_count": 32
        }
      ]
    },
    {
      "cell_type": "code",
      "source": [
        "from google.colab import files\n",
        "\n",
        "df_player.to_csv('transfermarkt.csv')\n",
        "files.download('transfermarkt.csv')\n",
        "\n"
      ],
      "metadata": {
        "colab": {
          "base_uri": "https://localhost:8080/",
          "height": 17
        },
        "id": "bolb2XAi7GBT",
        "outputId": "6ce3a7a1-c5f0-49c3-ca70-66a2e738b76b"
      },
      "execution_count": null,
      "outputs": [
        {
          "output_type": "display_data",
          "data": {
            "text/plain": [
              "<IPython.core.display.Javascript object>"
            ],
            "application/javascript": [
              "\n",
              "    async function download(id, filename, size) {\n",
              "      if (!google.colab.kernel.accessAllowed) {\n",
              "        return;\n",
              "      }\n",
              "      const div = document.createElement('div');\n",
              "      const label = document.createElement('label');\n",
              "      label.textContent = `Downloading \"${filename}\": `;\n",
              "      div.appendChild(label);\n",
              "      const progress = document.createElement('progress');\n",
              "      progress.max = size;\n",
              "      div.appendChild(progress);\n",
              "      document.body.appendChild(div);\n",
              "\n",
              "      const buffers = [];\n",
              "      let downloaded = 0;\n",
              "\n",
              "      const channel = await google.colab.kernel.comms.open(id);\n",
              "      // Send a message to notify the kernel that we're ready.\n",
              "      channel.send({})\n",
              "\n",
              "      for await (const message of channel.messages) {\n",
              "        // Send a message to notify the kernel that we're ready.\n",
              "        channel.send({})\n",
              "        if (message.buffers) {\n",
              "          for (const buffer of message.buffers) {\n",
              "            buffers.push(buffer);\n",
              "            downloaded += buffer.byteLength;\n",
              "            progress.value = downloaded;\n",
              "          }\n",
              "        }\n",
              "      }\n",
              "      const blob = new Blob(buffers, {type: 'application/binary'});\n",
              "      const a = document.createElement('a');\n",
              "      a.href = window.URL.createObjectURL(blob);\n",
              "      a.download = filename;\n",
              "      div.appendChild(a);\n",
              "      a.click();\n",
              "      div.remove();\n",
              "    }\n",
              "  "
            ]
          },
          "metadata": {}
        },
        {
          "output_type": "display_data",
          "data": {
            "text/plain": [
              "<IPython.core.display.Javascript object>"
            ],
            "application/javascript": [
              "download(\"download_990c6970-e3d6-4eb4-8e52-b0207e7313dc\", \"transfermarkt.csv\", 711247)"
            ]
          },
          "metadata": {}
        }
      ]
    },
    {
      "cell_type": "markdown",
      "source": [
        "# Scraping data from FBRef\n",
        "The following section outlines the steps taken to scrape all necessary data from the FBReference website."
      ],
      "metadata": {
        "id": "c4vzGAns9mTE"
      }
    },
    {
      "cell_type": "markdown",
      "source": [
        "### Import all dependencies"
      ],
      "metadata": {
        "id": "ChjtSy_G9tWx"
      }
    },
    {
      "cell_type": "code",
      "source": [
        "import requests\n",
        "from bs4 import BeautifulSoup\n",
        "import pandas as pd\n",
        "import re\n",
        "import sys, getopt\n",
        "import csv"
      ],
      "metadata": {
        "id": "7cI1F9VD9sYa"
      },
      "execution_count": null,
      "outputs": []
    },
    {
      "cell_type": "markdown",
      "source": [
        "#### Step 1: Define all columns that we want to extract from FBReference."
      ],
      "metadata": {
        "id": "cvAujkFsAT28"
      }
    },
    {
      "cell_type": "code",
      "source": [
        "#standard(stats)\n",
        "stats = [\"player\",\"nationality\",\"position\",\"team\",\"age\",\"birth_year\",\"games\",\"games_starts\",\"minutes\",\"cards_yellow\",\"cards_red\"]\n",
        "stats3 = [\"players_used\",\"possession\",\"games\",\"games_starts\",\"minutes\",\"goals\",\"assists\",\"cards_yellow\",\"cards_red\"] \n",
        "#goalkeeping(keepers)\n",
        "keepers = [\"player\",\"nationality\",\"position\",\"squad\",\"age\",\"birth_year\"]\n",
        "#shooting(shooting)\n",
        "shooting = [\"player\",\"nationality\",\"position\",\"squad\",\"age\",\"birth_year\",\"minutes_90s\",\"shots_total\",\"shots_total_per90\"]\n",
        "shooting2 = [\"minutes_90s\",\"goals\",\"shots\",\"shots_free_kicks\"]\n",
        "shooting3 = [\"goals\",\"pens_made\",\"pens_att\",\"shots_total\",\"shots_free_kicks\"]\n",
        "#passing(passing)\n",
        "passing = [\"player\",\"nationality\",\"position\",\"squad\",\"age\",\"birth_year\",\"minutes_90s\",\"passes_completed\",\"passes\",\"passes_total_distance\",\"passes_short\",\"passes_medium\",\"passes_long\"]\n",
        "passing2 = [\"passes_completed\",\"passes\",\"passes_total_distance\",\"passes_progressive_distance\",\"passes_short\",\"passes_medium\",\"passes_long\"]\n",
        "#passtypes(passing_types)\n",
        "passing_types = [\"player\",\"nationality\",\"position\",\"squad\",\"age\",\"birth_year\",\"minutes_90s\",\"passes\",\"passes_live\",\"passes_dead\",\"passes_free_kicks\",\"through_balls\",\"passes_switches\",\"crosses\",\"corner_kicks\"]\n",
        "passing_types2 = [\"passes\",\"passes_live\",\"passes_dead\",\"passes_free_kicks\",\"through_balls\",\"passes_switches\",\"crosses\",\"corner_kicks\"]\n",
        "#defensive actions(defense)\n",
        "defense = [\"player\",\"nationality\",\"position\",\"squad\",\"age\",\"birth_year\",\"minutes_90s\",\"tackles\",\"tackles_won\",\"dribble_tackles\",\"dribbled_past\",\"blocks\",\"interceptions\",\"clearances\",\"errors\"]\n",
        "defense2 = [\"tackles\",\"tackles_won\",\"dribble_tackles\",\"dribbled_past\",\"blocks\",\"interceptions\",\"clearances\",\"errors\"]\n",
        "#possession(possession)\n",
        "possession = [\"player\",\"nationality\",\"position\",\"squad\",\"age\",\"birth_year\",\"minutes_90s\",\"touches\",\"touches_live_ball\",\"dribbles\",\"miscontrols\",\"dispossessed\",\"passes_received\"]\n",
        "possession2 = [\"touches\",\"touches_live_ball\",\"dribbles\",\"miscontrols\",\"dispossessed\",\"passes_received\"]\n",
        "#playingtime(playingtime)\n",
        "playingtime = [\"player\",\"nationality\",\"position\",\"squad\",\"age\",\"birth_year\",\"minutes_90s\",\"games\",\"minutes\",\"minutes_per_game\",\"minutes_pct\",\"games_starts\",\"minutes_per_start\",\"games_subs\",\"minutes_per_sub\",\"unused_subs\"]\n",
        "playingtime2 = [\"games\",\"minutes\",\"minutes_per_game\",\"minutes_pct\",\"games_starts\",\"minutes_per_start\",\"games_subs\",\"minutes_per_sub\",\"unused_subs\"]\n",
        "#miscallaneous(misc)\n",
        "misc = [\"player\",\"nationality\",\"position\",\"squad\",\"age\",\"birth_year\",\"minutes_90s\",\"cards_yellow\",\"cards_red\",\"fouls\",\"fouled\",\"ball_recoveries\",\"aerials_won\",\"aerials_lost\"]\n",
        "misc2 = [\"cards_yellow\",\"cards_red\",\"fouls\",\"fouled\",\"ball_recoveries\",\"aerials_won\",\"aerials_lost\"]"
      ],
      "metadata": {
        "id": "qosMWXfjHmqd"
      },
      "execution_count": null,
      "outputs": []
    },
    {
      "cell_type": "markdown",
      "source": [
        "####Step 2: Define all functions needed for scraping."
      ],
      "metadata": {
        "id": "U5--K03bJ-hO"
      }
    },
    {
      "cell_type": "code",
      "source": [
        "import time\n",
        "def get_tables(url):\n",
        "    res = requests.get(url)\n",
        "    ## The next two lines get around the issue with comments breaking the parsing.\n",
        "    comm = re.compile(\"<!--|-->\")\n",
        "    soup = BeautifulSoup(comm.sub(\"\",res.text),'lxml')\n",
        "    all_tables = soup.findAll(\"tbody\")\n",
        "    player_table = all_tables[1]\n",
        "    return player_table\n",
        "\n",
        "def get_frame(features, player_table):\n",
        "    pre_df_player = dict()\n",
        "    features_wanted_player = features\n",
        "    rows_player = player_table.find_all('tr')\n",
        "    for row in rows_player:\n",
        "        if(row.find('th',{\"scope\":\"row\"}) != None):\n",
        "    \n",
        "            for f in features_wanted_player:\n",
        "                cell = row.find(\"td\",{\"data-stat\": f})\n",
        "                a = cell.text.strip().encode()\n",
        "                text=a.decode(\"utf-8\")\n",
        "                if(text == ''):\n",
        "                    text = '0'\n",
        "                if((f!='player')&(f!='nationality')&(f!='position')&(f!='team')&(f!='age')&(f!='birth_year')):\n",
        "                    text = float(text.replace(',',''))\n",
        "                if f in pre_df_player:\n",
        "                    pre_df_player[f].append(text)\n",
        "                else:\n",
        "                    pre_df_player[f] = [text]\n",
        "\n",
        "                # # get height and weight\n",
        "                # if (f == 'player'):\n",
        "                #   time.sleep(2.5)\n",
        "                #   cell_href = row.find(\"td\",{\"data-stat\": f})\n",
        "                #   href = cell_href.findAll('a')[0].get('href')\n",
        "                #   player_url = 'https://fbref.com' + href\n",
        "                #   res = requests.get(player_url)\n",
        "                #   comm = re.compile(\"<!--|-->\")\n",
        "                #   soup = BeautifulSoup(comm.sub(\"\",res.text),'lxml')\n",
        "                #   div = soup.find(\"div\", {\"id\": \"info\"})\n",
        "                #   p_hw = div.findAll('p')[2]\n",
        "                #   h_span = p_hw.findAll('span')[0]\n",
        "                #   w_span = p_hw.findAll('span')[1]\n",
        "                #   pre_df_player['height'] = h_span.get_text()\n",
        "                #   pre_df_player['weight'] = w_span.get_text()\n",
        "\n",
        "    df_player = pd.DataFrame.from_dict(pre_df_player)\n",
        "    return df_player\n",
        "\n",
        "def frame_for_category(category,top,end,features):\n",
        "    url = (top + category + end)\n",
        "    player_table = get_tables(url)\n",
        "    df_player = get_frame(features, player_table)\n",
        "    return df_player\n",
        "\n",
        "def get_outfield_data(top, end):\n",
        "    df1 = frame_for_category('stats',top,end,stats)\n",
        "    df2 = frame_for_category('shooting',top,end,shooting2)\n",
        "    df3 = frame_for_category('passing',top,end,passing2)\n",
        "    df4 = frame_for_category('passing_types',top,end,passing_types2)\n",
        "    df6 = frame_for_category('defense',top,end,defense2)\n",
        "    df7 = frame_for_category('possession',top,end,possession2)\n",
        "    df8 = frame_for_category('misc',top,end,misc2)\n",
        "    df = pd.concat([df1, df2, df3, df4, df6, df7, df8], axis=1)\n",
        "    df = df.loc[:,~df.columns.duplicated()]\n",
        "    return df\n"
      ],
      "metadata": {
        "id": "n9pncpDNQPX0"
      },
      "execution_count": null,
      "outputs": []
    },
    {
      "cell_type": "markdown",
      "source": [
        "#### Step 3: Run scraper with corresponding URL for up-to-date player data."
      ],
      "metadata": {
        "id": "kNs5O2MSU7Yo"
      }
    },
    {
      "cell_type": "code",
      "source": [
        "link_arr = [['https://fbref.com/en/comps/22/','/Major-League-Soccer-Stats'],\n",
        "            ['https://fbref.com/en/comps/32/','/Primeira-Liga-Stats'],\n",
        "            ['https://fbref.com/en/comps/23/','/Eredivisie-Stats'],\n",
        "            ['https://fbref.com/en/comps/10/','/Championship-Stats'],\n",
        "            ['https://fbref.com/en/comps/24/','/Serie-A-Stats'],\n",
        "            ['https://fbref.com/en/comps/31/','/Liga-MX-Stats']]\n",
        "\n",
        "\n",
        "for link in link_arr:\n",
        "  df_outfield = get_outfield_data(link[0],link[1])\n",
        "\n",
        "df_outfield.to_csv('fbrefdata2022.csv', sep=';')\n",
        "print(df_outfield.head())"
      ],
      "metadata": {
        "id": "UGXHbedgScDE"
      },
      "execution_count": null,
      "outputs": []
    },
    {
      "cell_type": "markdown",
      "source": [
        "# Creating final dataframe"
      ],
      "metadata": {
        "id": "rCDVi3vHD_2W"
      }
    },
    {
      "cell_type": "markdown",
      "source": [
        "### Importing data\n",
        "Rather than having to constantly re-run the scraper (which takes about an hour), we have created a download link that allows us to directly import the final Transfermarkt and FBref dataframe.\n"
      ],
      "metadata": {
        "id": "kHOr4qoF--bF"
      }
    },
    {
      "cell_type": "code",
      "source": [
        "import pandas as pd\n",
        "df_injury=pd.read_csv('https://docs.google.com/spreadsheets/d/1TwWSYiSJviNgr16MH7TLhf53hKHkPhKD1gn261zhJOU/export?format=csv&gid=2070040166')\n",
        "df_outfield=pd.read_csv('https://docs.google.com/spreadsheets/d/17TDSYYY4TEAEHPxTPP87Pn4WKlI2UGChtnRmozz887s/export?format=csv&gid=1112887342', sep=';')\n",
        "df_injury.head()"
      ],
      "metadata": {
        "colab": {
          "base_uri": "https://localhost:8080/",
          "height": 206
        },
        "id": "B-EbQjVWg9EG",
        "outputId": "aa501342-3421-45a1-f9ba-04083c0068fd"
      },
      "execution_count": null,
      "outputs": [
        {
          "output_type": "execute_result",
          "data": {
            "text/plain": [
              "              name             club  \\\n",
              "0          Ederson  Manchester City   \n",
              "1    Stefan Ortega  Manchester City   \n",
              "2     Scott Carson  Manchester City   \n",
              "3       Rúben Dias  Manchester City   \n",
              "4  Aymeric Laporte  Manchester City   \n",
              "\n",
              "                                            injuries  \n",
              "0  [('20/21', 'Virus Infection', 'Dec 27, 2020', ...  \n",
              "1  [('21/22', 'Corona virus', 'Dec 17, 2021', 'De...  \n",
              "2  [('20/21', 'Virus Infection', 'Jan 6, 2021', '...  \n",
              "3  [('21/22', 'Knock', 'Mar 3, 2022', 'Apr 11, 20...  \n",
              "4  [('22/23', 'Knee Surgery', 'Jun 30, 2022', 'Oc...  "
            ],
            "text/html": [
              "\n",
              "  <div id=\"df-c7d6910c-0c56-4fe9-969c-b60c019a5f85\">\n",
              "    <div class=\"colab-df-container\">\n",
              "      <div>\n",
              "<style scoped>\n",
              "    .dataframe tbody tr th:only-of-type {\n",
              "        vertical-align: middle;\n",
              "    }\n",
              "\n",
              "    .dataframe tbody tr th {\n",
              "        vertical-align: top;\n",
              "    }\n",
              "\n",
              "    .dataframe thead th {\n",
              "        text-align: right;\n",
              "    }\n",
              "</style>\n",
              "<table border=\"1\" class=\"dataframe\">\n",
              "  <thead>\n",
              "    <tr style=\"text-align: right;\">\n",
              "      <th></th>\n",
              "      <th>name</th>\n",
              "      <th>club</th>\n",
              "      <th>injuries</th>\n",
              "    </tr>\n",
              "  </thead>\n",
              "  <tbody>\n",
              "    <tr>\n",
              "      <th>0</th>\n",
              "      <td>Ederson</td>\n",
              "      <td>Manchester City</td>\n",
              "      <td>[('20/21', 'Virus Infection', 'Dec 27, 2020', ...</td>\n",
              "    </tr>\n",
              "    <tr>\n",
              "      <th>1</th>\n",
              "      <td>Stefan Ortega</td>\n",
              "      <td>Manchester City</td>\n",
              "      <td>[('21/22', 'Corona virus', 'Dec 17, 2021', 'De...</td>\n",
              "    </tr>\n",
              "    <tr>\n",
              "      <th>2</th>\n",
              "      <td>Scott Carson</td>\n",
              "      <td>Manchester City</td>\n",
              "      <td>[('20/21', 'Virus Infection', 'Jan 6, 2021', '...</td>\n",
              "    </tr>\n",
              "    <tr>\n",
              "      <th>3</th>\n",
              "      <td>Rúben Dias</td>\n",
              "      <td>Manchester City</td>\n",
              "      <td>[('21/22', 'Knock', 'Mar 3, 2022', 'Apr 11, 20...</td>\n",
              "    </tr>\n",
              "    <tr>\n",
              "      <th>4</th>\n",
              "      <td>Aymeric Laporte</td>\n",
              "      <td>Manchester City</td>\n",
              "      <td>[('22/23', 'Knee Surgery', 'Jun 30, 2022', 'Oc...</td>\n",
              "    </tr>\n",
              "  </tbody>\n",
              "</table>\n",
              "</div>\n",
              "      <button class=\"colab-df-convert\" onclick=\"convertToInteractive('df-c7d6910c-0c56-4fe9-969c-b60c019a5f85')\"\n",
              "              title=\"Convert this dataframe to an interactive table.\"\n",
              "              style=\"display:none;\">\n",
              "        \n",
              "  <svg xmlns=\"http://www.w3.org/2000/svg\" height=\"24px\"viewBox=\"0 0 24 24\"\n",
              "       width=\"24px\">\n",
              "    <path d=\"M0 0h24v24H0V0z\" fill=\"none\"/>\n",
              "    <path d=\"M18.56 5.44l.94 2.06.94-2.06 2.06-.94-2.06-.94-.94-2.06-.94 2.06-2.06.94zm-11 1L8.5 8.5l.94-2.06 2.06-.94-2.06-.94L8.5 2.5l-.94 2.06-2.06.94zm10 10l.94 2.06.94-2.06 2.06-.94-2.06-.94-.94-2.06-.94 2.06-2.06.94z\"/><path d=\"M17.41 7.96l-1.37-1.37c-.4-.4-.92-.59-1.43-.59-.52 0-1.04.2-1.43.59L10.3 9.45l-7.72 7.72c-.78.78-.78 2.05 0 2.83L4 21.41c.39.39.9.59 1.41.59.51 0 1.02-.2 1.41-.59l7.78-7.78 2.81-2.81c.8-.78.8-2.07 0-2.86zM5.41 20L4 18.59l7.72-7.72 1.47 1.35L5.41 20z\"/>\n",
              "  </svg>\n",
              "      </button>\n",
              "      \n",
              "  <style>\n",
              "    .colab-df-container {\n",
              "      display:flex;\n",
              "      flex-wrap:wrap;\n",
              "      gap: 12px;\n",
              "    }\n",
              "\n",
              "    .colab-df-convert {\n",
              "      background-color: #E8F0FE;\n",
              "      border: none;\n",
              "      border-radius: 50%;\n",
              "      cursor: pointer;\n",
              "      display: none;\n",
              "      fill: #1967D2;\n",
              "      height: 32px;\n",
              "      padding: 0 0 0 0;\n",
              "      width: 32px;\n",
              "    }\n",
              "\n",
              "    .colab-df-convert:hover {\n",
              "      background-color: #E2EBFA;\n",
              "      box-shadow: 0px 1px 2px rgba(60, 64, 67, 0.3), 0px 1px 3px 1px rgba(60, 64, 67, 0.15);\n",
              "      fill: #174EA6;\n",
              "    }\n",
              "\n",
              "    [theme=dark] .colab-df-convert {\n",
              "      background-color: #3B4455;\n",
              "      fill: #D2E3FC;\n",
              "    }\n",
              "\n",
              "    [theme=dark] .colab-df-convert:hover {\n",
              "      background-color: #434B5C;\n",
              "      box-shadow: 0px 1px 3px 1px rgba(0, 0, 0, 0.15);\n",
              "      filter: drop-shadow(0px 1px 2px rgba(0, 0, 0, 0.3));\n",
              "      fill: #FFFFFF;\n",
              "    }\n",
              "  </style>\n",
              "\n",
              "      <script>\n",
              "        const buttonEl =\n",
              "          document.querySelector('#df-c7d6910c-0c56-4fe9-969c-b60c019a5f85 button.colab-df-convert');\n",
              "        buttonEl.style.display =\n",
              "          google.colab.kernel.accessAllowed ? 'block' : 'none';\n",
              "\n",
              "        async function convertToInteractive(key) {\n",
              "          const element = document.querySelector('#df-c7d6910c-0c56-4fe9-969c-b60c019a5f85');\n",
              "          const dataTable =\n",
              "            await google.colab.kernel.invokeFunction('convertToInteractive',\n",
              "                                                     [key], {});\n",
              "          if (!dataTable) return;\n",
              "\n",
              "          const docLinkHtml = 'Like what you see? Visit the ' +\n",
              "            '<a target=\"_blank\" href=https://colab.research.google.com/notebooks/data_table.ipynb>data table notebook</a>'\n",
              "            + ' to learn more about interactive tables.';\n",
              "          element.innerHTML = '';\n",
              "          dataTable['output_type'] = 'display_data';\n",
              "          await google.colab.output.renderOutput(dataTable, element);\n",
              "          const docLink = document.createElement('div');\n",
              "          docLink.innerHTML = docLinkHtml;\n",
              "          element.appendChild(docLink);\n",
              "        }\n",
              "      </script>\n",
              "    </div>\n",
              "  </div>\n",
              "  "
            ]
          },
          "metadata": {},
          "execution_count": 1
        }
      ]
    },
    {
      "cell_type": "markdown",
      "source": [
        "### Dropping duplicates"
      ],
      "metadata": {
        "id": "PebYDYIFLU_z"
      }
    },
    {
      "cell_type": "code",
      "source": [
        "df_outfield = df_outfield.drop_duplicates(subset='player')\n",
        "df_injury = df_injury.drop_duplicates(subset='name')\n",
        "print(df_outfield['player'].value_counts())\n",
        "print(df_injury['name'].value_counts())"
      ],
      "metadata": {
        "id": "DF-YQ6aJLXDd"
      },
      "execution_count": null,
      "outputs": []
    },
    {
      "cell_type": "markdown",
      "source": [
        "### Merging dataframes\n",
        "\n",
        "We must now merge the Transfermarkt dataframe (containing the injury data) with the FBRef dataframe (containing in-game statistics)."
      ],
      "metadata": {
        "id": "lKYzO-8mDvbm"
      }
    },
    {
      "cell_type": "code",
      "source": [
        "df_outfield = df_outfield.rename(columns={\"player\": \"name\", \"team\": \"club\"})\n",
        "df_injury = pd.merge(df_injury, df_outfield, how='inner', on='name')\n",
        "df_injury"
      ],
      "metadata": {
        "colab": {
          "base_uri": "https://localhost:8080/",
          "height": 488
        },
        "id": "X_fLzBqGER3D",
        "outputId": "453bddbe-73f7-465c-f7b0-9541979a2fd7"
      },
      "execution_count": null,
      "outputs": [
        {
          "output_type": "execute_result",
          "data": {
            "text/plain": [
              "            age  games  games_starts  minutes  cards_yellow  cards_red  \\\n",
              "0     29.273973   14.0          14.0   1260.0           0.0        0.0   \n",
              "1     25.534247   12.0           9.0    873.0           0.0        0.0   \n",
              "2     28.498630    4.0           3.0    286.0           0.0        0.0   \n",
              "3     28.495890    9.0           8.0    731.0           1.0        0.0   \n",
              "4     27.767123    8.0           7.0    571.0           0.0        0.0   \n",
              "...         ...    ...           ...      ...           ...        ...   \n",
              "1969  23.594521    8.0           8.0    514.0           0.0        0.0   \n",
              "1970  32.978082   12.0           3.0    392.0           3.0        0.0   \n",
              "1971  26.739726   12.0           9.0    730.0           2.0        1.0   \n",
              "1972  25.660274   13.0           4.0    512.0           2.0        0.0   \n",
              "1973  31.893151    8.0           5.0    430.0           1.0        0.0   \n",
              "\n",
              "      minutes_90s  goals  shots  shots_free_kicks  ...  ball_recoveries  \\\n",
              "0            14.0    0.0    0.0               0.0  ...             19.0   \n",
              "1             9.7    0.0    5.0               0.0  ...             41.0   \n",
              "2             3.2    0.0    7.0               0.0  ...             11.0   \n",
              "3             8.1    0.0    5.0               0.0  ...             37.0   \n",
              "4             6.3    0.0    3.0               0.0  ...             24.0   \n",
              "...           ...    ...    ...               ...  ...              ...   \n",
              "1969          5.7    1.0   11.0               0.0  ...             23.0   \n",
              "1970          4.4    1.0    2.0               0.0  ...             16.0   \n",
              "1971          8.1    1.0    9.0               0.0  ...             27.0   \n",
              "1972          5.7    2.0   12.0               0.0  ...             13.0   \n",
              "1973          4.8    0.0    4.0               0.0  ...             19.0   \n",
              "\n",
              "      aerials_won  aerials_lost  n_injuries  n_severe_injuries  \\\n",
              "0             3.0           0.0           6                  0   \n",
              "1            26.0          13.0           4                  0   \n",
              "2            11.0           4.0          14                  4   \n",
              "3            10.0           6.0          15                  1   \n",
              "4            13.0          10.0          10                  1   \n",
              "...           ...           ...         ...                ...   \n",
              "1969          4.0           5.0           3                  1   \n",
              "1970          3.0           3.0           2                  0   \n",
              "1971          8.0          15.0           4                  0   \n",
              "1972         16.0          19.0           5                  2   \n",
              "1973          6.0          10.0           4                  2   \n",
              "\n",
              "      currently_injured  position_DF  position_FW  position_GK  position_MF  \n",
              "0                     0            0            0            1            0  \n",
              "1                     0            1            0            0            0  \n",
              "2                     0            1            0            0            0  \n",
              "3                     0            1            0            0            0  \n",
              "4                     0            1            0            0            0  \n",
              "...                 ...          ...          ...          ...          ...  \n",
              "1969                  0            0            1            0            1  \n",
              "1970                  0            1            0            0            1  \n",
              "1971                  0            0            1            0            0  \n",
              "1972                  0            0            1            0            0  \n",
              "1973                  0            0            1            0            0  \n",
              "\n",
              "[1974 rows x 50 columns]"
            ],
            "text/html": [
              "\n",
              "  <div id=\"df-91d5053e-4b16-4720-be63-bac3eba2141e\">\n",
              "    <div class=\"colab-df-container\">\n",
              "      <div>\n",
              "<style scoped>\n",
              "    .dataframe tbody tr th:only-of-type {\n",
              "        vertical-align: middle;\n",
              "    }\n",
              "\n",
              "    .dataframe tbody tr th {\n",
              "        vertical-align: top;\n",
              "    }\n",
              "\n",
              "    .dataframe thead th {\n",
              "        text-align: right;\n",
              "    }\n",
              "</style>\n",
              "<table border=\"1\" class=\"dataframe\">\n",
              "  <thead>\n",
              "    <tr style=\"text-align: right;\">\n",
              "      <th></th>\n",
              "      <th>age</th>\n",
              "      <th>games</th>\n",
              "      <th>games_starts</th>\n",
              "      <th>minutes</th>\n",
              "      <th>cards_yellow</th>\n",
              "      <th>cards_red</th>\n",
              "      <th>minutes_90s</th>\n",
              "      <th>goals</th>\n",
              "      <th>shots</th>\n",
              "      <th>shots_free_kicks</th>\n",
              "      <th>...</th>\n",
              "      <th>ball_recoveries</th>\n",
              "      <th>aerials_won</th>\n",
              "      <th>aerials_lost</th>\n",
              "      <th>n_injuries</th>\n",
              "      <th>n_severe_injuries</th>\n",
              "      <th>currently_injured</th>\n",
              "      <th>position_DF</th>\n",
              "      <th>position_FW</th>\n",
              "      <th>position_GK</th>\n",
              "      <th>position_MF</th>\n",
              "    </tr>\n",
              "  </thead>\n",
              "  <tbody>\n",
              "    <tr>\n",
              "      <th>0</th>\n",
              "      <td>29.273973</td>\n",
              "      <td>14.0</td>\n",
              "      <td>14.0</td>\n",
              "      <td>1260.0</td>\n",
              "      <td>0.0</td>\n",
              "      <td>0.0</td>\n",
              "      <td>14.0</td>\n",
              "      <td>0.0</td>\n",
              "      <td>0.0</td>\n",
              "      <td>0.0</td>\n",
              "      <td>...</td>\n",
              "      <td>19.0</td>\n",
              "      <td>3.0</td>\n",
              "      <td>0.0</td>\n",
              "      <td>6</td>\n",
              "      <td>0</td>\n",
              "      <td>0</td>\n",
              "      <td>0</td>\n",
              "      <td>0</td>\n",
              "      <td>1</td>\n",
              "      <td>0</td>\n",
              "    </tr>\n",
              "    <tr>\n",
              "      <th>1</th>\n",
              "      <td>25.534247</td>\n",
              "      <td>12.0</td>\n",
              "      <td>9.0</td>\n",
              "      <td>873.0</td>\n",
              "      <td>0.0</td>\n",
              "      <td>0.0</td>\n",
              "      <td>9.7</td>\n",
              "      <td>0.0</td>\n",
              "      <td>5.0</td>\n",
              "      <td>0.0</td>\n",
              "      <td>...</td>\n",
              "      <td>41.0</td>\n",
              "      <td>26.0</td>\n",
              "      <td>13.0</td>\n",
              "      <td>4</td>\n",
              "      <td>0</td>\n",
              "      <td>0</td>\n",
              "      <td>1</td>\n",
              "      <td>0</td>\n",
              "      <td>0</td>\n",
              "      <td>0</td>\n",
              "    </tr>\n",
              "    <tr>\n",
              "      <th>2</th>\n",
              "      <td>28.498630</td>\n",
              "      <td>4.0</td>\n",
              "      <td>3.0</td>\n",
              "      <td>286.0</td>\n",
              "      <td>0.0</td>\n",
              "      <td>0.0</td>\n",
              "      <td>3.2</td>\n",
              "      <td>0.0</td>\n",
              "      <td>7.0</td>\n",
              "      <td>0.0</td>\n",
              "      <td>...</td>\n",
              "      <td>11.0</td>\n",
              "      <td>11.0</td>\n",
              "      <td>4.0</td>\n",
              "      <td>14</td>\n",
              "      <td>4</td>\n",
              "      <td>0</td>\n",
              "      <td>1</td>\n",
              "      <td>0</td>\n",
              "      <td>0</td>\n",
              "      <td>0</td>\n",
              "    </tr>\n",
              "    <tr>\n",
              "      <th>3</th>\n",
              "      <td>28.495890</td>\n",
              "      <td>9.0</td>\n",
              "      <td>8.0</td>\n",
              "      <td>731.0</td>\n",
              "      <td>1.0</td>\n",
              "      <td>0.0</td>\n",
              "      <td>8.1</td>\n",
              "      <td>0.0</td>\n",
              "      <td>5.0</td>\n",
              "      <td>0.0</td>\n",
              "      <td>...</td>\n",
              "      <td>37.0</td>\n",
              "      <td>10.0</td>\n",
              "      <td>6.0</td>\n",
              "      <td>15</td>\n",
              "      <td>1</td>\n",
              "      <td>0</td>\n",
              "      <td>1</td>\n",
              "      <td>0</td>\n",
              "      <td>0</td>\n",
              "      <td>0</td>\n",
              "    </tr>\n",
              "    <tr>\n",
              "      <th>4</th>\n",
              "      <td>27.767123</td>\n",
              "      <td>8.0</td>\n",
              "      <td>7.0</td>\n",
              "      <td>571.0</td>\n",
              "      <td>0.0</td>\n",
              "      <td>0.0</td>\n",
              "      <td>6.3</td>\n",
              "      <td>0.0</td>\n",
              "      <td>3.0</td>\n",
              "      <td>0.0</td>\n",
              "      <td>...</td>\n",
              "      <td>24.0</td>\n",
              "      <td>13.0</td>\n",
              "      <td>10.0</td>\n",
              "      <td>10</td>\n",
              "      <td>1</td>\n",
              "      <td>0</td>\n",
              "      <td>1</td>\n",
              "      <td>0</td>\n",
              "      <td>0</td>\n",
              "      <td>0</td>\n",
              "    </tr>\n",
              "    <tr>\n",
              "      <th>...</th>\n",
              "      <td>...</td>\n",
              "      <td>...</td>\n",
              "      <td>...</td>\n",
              "      <td>...</td>\n",
              "      <td>...</td>\n",
              "      <td>...</td>\n",
              "      <td>...</td>\n",
              "      <td>...</td>\n",
              "      <td>...</td>\n",
              "      <td>...</td>\n",
              "      <td>...</td>\n",
              "      <td>...</td>\n",
              "      <td>...</td>\n",
              "      <td>...</td>\n",
              "      <td>...</td>\n",
              "      <td>...</td>\n",
              "      <td>...</td>\n",
              "      <td>...</td>\n",
              "      <td>...</td>\n",
              "      <td>...</td>\n",
              "      <td>...</td>\n",
              "    </tr>\n",
              "    <tr>\n",
              "      <th>1969</th>\n",
              "      <td>23.594521</td>\n",
              "      <td>8.0</td>\n",
              "      <td>8.0</td>\n",
              "      <td>514.0</td>\n",
              "      <td>0.0</td>\n",
              "      <td>0.0</td>\n",
              "      <td>5.7</td>\n",
              "      <td>1.0</td>\n",
              "      <td>11.0</td>\n",
              "      <td>0.0</td>\n",
              "      <td>...</td>\n",
              "      <td>23.0</td>\n",
              "      <td>4.0</td>\n",
              "      <td>5.0</td>\n",
              "      <td>3</td>\n",
              "      <td>1</td>\n",
              "      <td>0</td>\n",
              "      <td>0</td>\n",
              "      <td>1</td>\n",
              "      <td>0</td>\n",
              "      <td>1</td>\n",
              "    </tr>\n",
              "    <tr>\n",
              "      <th>1970</th>\n",
              "      <td>32.978082</td>\n",
              "      <td>12.0</td>\n",
              "      <td>3.0</td>\n",
              "      <td>392.0</td>\n",
              "      <td>3.0</td>\n",
              "      <td>0.0</td>\n",
              "      <td>4.4</td>\n",
              "      <td>1.0</td>\n",
              "      <td>2.0</td>\n",
              "      <td>0.0</td>\n",
              "      <td>...</td>\n",
              "      <td>16.0</td>\n",
              "      <td>3.0</td>\n",
              "      <td>3.0</td>\n",
              "      <td>2</td>\n",
              "      <td>0</td>\n",
              "      <td>0</td>\n",
              "      <td>1</td>\n",
              "      <td>0</td>\n",
              "      <td>0</td>\n",
              "      <td>1</td>\n",
              "    </tr>\n",
              "    <tr>\n",
              "      <th>1971</th>\n",
              "      <td>26.739726</td>\n",
              "      <td>12.0</td>\n",
              "      <td>9.0</td>\n",
              "      <td>730.0</td>\n",
              "      <td>2.0</td>\n",
              "      <td>1.0</td>\n",
              "      <td>8.1</td>\n",
              "      <td>1.0</td>\n",
              "      <td>9.0</td>\n",
              "      <td>0.0</td>\n",
              "      <td>...</td>\n",
              "      <td>27.0</td>\n",
              "      <td>8.0</td>\n",
              "      <td>15.0</td>\n",
              "      <td>4</td>\n",
              "      <td>0</td>\n",
              "      <td>0</td>\n",
              "      <td>0</td>\n",
              "      <td>1</td>\n",
              "      <td>0</td>\n",
              "      <td>0</td>\n",
              "    </tr>\n",
              "    <tr>\n",
              "      <th>1972</th>\n",
              "      <td>25.660274</td>\n",
              "      <td>13.0</td>\n",
              "      <td>4.0</td>\n",
              "      <td>512.0</td>\n",
              "      <td>2.0</td>\n",
              "      <td>0.0</td>\n",
              "      <td>5.7</td>\n",
              "      <td>2.0</td>\n",
              "      <td>12.0</td>\n",
              "      <td>0.0</td>\n",
              "      <td>...</td>\n",
              "      <td>13.0</td>\n",
              "      <td>16.0</td>\n",
              "      <td>19.0</td>\n",
              "      <td>5</td>\n",
              "      <td>2</td>\n",
              "      <td>0</td>\n",
              "      <td>0</td>\n",
              "      <td>1</td>\n",
              "      <td>0</td>\n",
              "      <td>0</td>\n",
              "    </tr>\n",
              "    <tr>\n",
              "      <th>1973</th>\n",
              "      <td>31.893151</td>\n",
              "      <td>8.0</td>\n",
              "      <td>5.0</td>\n",
              "      <td>430.0</td>\n",
              "      <td>1.0</td>\n",
              "      <td>0.0</td>\n",
              "      <td>4.8</td>\n",
              "      <td>0.0</td>\n",
              "      <td>4.0</td>\n",
              "      <td>0.0</td>\n",
              "      <td>...</td>\n",
              "      <td>19.0</td>\n",
              "      <td>6.0</td>\n",
              "      <td>10.0</td>\n",
              "      <td>4</td>\n",
              "      <td>2</td>\n",
              "      <td>0</td>\n",
              "      <td>0</td>\n",
              "      <td>1</td>\n",
              "      <td>0</td>\n",
              "      <td>0</td>\n",
              "    </tr>\n",
              "  </tbody>\n",
              "</table>\n",
              "<p>1974 rows × 50 columns</p>\n",
              "</div>\n",
              "      <button class=\"colab-df-convert\" onclick=\"convertToInteractive('df-91d5053e-4b16-4720-be63-bac3eba2141e')\"\n",
              "              title=\"Convert this dataframe to an interactive table.\"\n",
              "              style=\"display:none;\">\n",
              "        \n",
              "  <svg xmlns=\"http://www.w3.org/2000/svg\" height=\"24px\"viewBox=\"0 0 24 24\"\n",
              "       width=\"24px\">\n",
              "    <path d=\"M0 0h24v24H0V0z\" fill=\"none\"/>\n",
              "    <path d=\"M18.56 5.44l.94 2.06.94-2.06 2.06-.94-2.06-.94-.94-2.06-.94 2.06-2.06.94zm-11 1L8.5 8.5l.94-2.06 2.06-.94-2.06-.94L8.5 2.5l-.94 2.06-2.06.94zm10 10l.94 2.06.94-2.06 2.06-.94-2.06-.94-.94-2.06-.94 2.06-2.06.94z\"/><path d=\"M17.41 7.96l-1.37-1.37c-.4-.4-.92-.59-1.43-.59-.52 0-1.04.2-1.43.59L10.3 9.45l-7.72 7.72c-.78.78-.78 2.05 0 2.83L4 21.41c.39.39.9.59 1.41.59.51 0 1.02-.2 1.41-.59l7.78-7.78 2.81-2.81c.8-.78.8-2.07 0-2.86zM5.41 20L4 18.59l7.72-7.72 1.47 1.35L5.41 20z\"/>\n",
              "  </svg>\n",
              "      </button>\n",
              "      \n",
              "  <style>\n",
              "    .colab-df-container {\n",
              "      display:flex;\n",
              "      flex-wrap:wrap;\n",
              "      gap: 12px;\n",
              "    }\n",
              "\n",
              "    .colab-df-convert {\n",
              "      background-color: #E8F0FE;\n",
              "      border: none;\n",
              "      border-radius: 50%;\n",
              "      cursor: pointer;\n",
              "      display: none;\n",
              "      fill: #1967D2;\n",
              "      height: 32px;\n",
              "      padding: 0 0 0 0;\n",
              "      width: 32px;\n",
              "    }\n",
              "\n",
              "    .colab-df-convert:hover {\n",
              "      background-color: #E2EBFA;\n",
              "      box-shadow: 0px 1px 2px rgba(60, 64, 67, 0.3), 0px 1px 3px 1px rgba(60, 64, 67, 0.15);\n",
              "      fill: #174EA6;\n",
              "    }\n",
              "\n",
              "    [theme=dark] .colab-df-convert {\n",
              "      background-color: #3B4455;\n",
              "      fill: #D2E3FC;\n",
              "    }\n",
              "\n",
              "    [theme=dark] .colab-df-convert:hover {\n",
              "      background-color: #434B5C;\n",
              "      box-shadow: 0px 1px 3px 1px rgba(0, 0, 0, 0.15);\n",
              "      filter: drop-shadow(0px 1px 2px rgba(0, 0, 0, 0.3));\n",
              "      fill: #FFFFFF;\n",
              "    }\n",
              "  </style>\n",
              "\n",
              "      <script>\n",
              "        const buttonEl =\n",
              "          document.querySelector('#df-91d5053e-4b16-4720-be63-bac3eba2141e button.colab-df-convert');\n",
              "        buttonEl.style.display =\n",
              "          google.colab.kernel.accessAllowed ? 'block' : 'none';\n",
              "\n",
              "        async function convertToInteractive(key) {\n",
              "          const element = document.querySelector('#df-91d5053e-4b16-4720-be63-bac3eba2141e');\n",
              "          const dataTable =\n",
              "            await google.colab.kernel.invokeFunction('convertToInteractive',\n",
              "                                                     [key], {});\n",
              "          if (!dataTable) return;\n",
              "\n",
              "          const docLinkHtml = 'Like what you see? Visit the ' +\n",
              "            '<a target=\"_blank\" href=https://colab.research.google.com/notebooks/data_table.ipynb>data table notebook</a>'\n",
              "            + ' to learn more about interactive tables.';\n",
              "          element.innerHTML = '';\n",
              "          dataTable['output_type'] = 'display_data';\n",
              "          await google.colab.output.renderOutput(dataTable, element);\n",
              "          const docLink = document.createElement('div');\n",
              "          docLink.innerHTML = docLinkHtml;\n",
              "          element.appendChild(docLink);\n",
              "        }\n",
              "      </script>\n",
              "    </div>\n",
              "  </div>\n",
              "  "
            ]
          },
          "metadata": {},
          "execution_count": 9
        }
      ]
    },
    {
      "cell_type": "markdown",
      "source": [
        "# Data Cleansing\n",
        "\n",
        "In this section, we will outline the steps we took to clean the data obtained from Transfermarkt / FBRef and make it usable to train our model."
      ],
      "metadata": {
        "id": "Zt0JQrokiwMT"
      }
    },
    {
      "cell_type": "markdown",
      "source": [
        "### Unpacking arrays\n",
        "\n",
        "There are certain columns containing arrays of tuples (historical data) that cannot be used as features.\n",
        "\n",
        "Therefore, we must unpack the values within these arrays to make usable features for the model."
      ],
      "metadata": {
        "id": "rYCh0-3Ci6_A"
      }
    },
    {
      "cell_type": "code",
      "source": [
        "import ast\n",
        "import numpy as np\n",
        "df_injury['injuries'] = df_injury['injuries'].apply(lambda arr: ast.literal_eval(arr)) # only run this once to transform into array (currently held as string)\n",
        "df_injury['n_injuries'] = df_injury['injuries'].apply(lambda arr: len(arr)) # total number of injuries suffered\n",
        "df_injury['n_severe_injuries'] = df_injury['injuries'].apply(lambda arr: sum([1 for x in arr if int(x[4]) > 60])) # total number of severe injuries suffered (defined as 60 days missed or greater)"
      ],
      "metadata": {
        "id": "GoMnQL3SWTgK"
      },
      "execution_count": null,
      "outputs": []
    },
    {
      "cell_type": "markdown",
      "source": [
        "### Target column\n",
        "\n",
        "In the cell below we create our target variable column."
      ],
      "metadata": {
        "id": "EIxE_3GMnGzL"
      }
    },
    {
      "cell_type": "code",
      "source": [
        "from datetime import datetime\n",
        "df_injury['currently_injured'] = df_injury['injuries'].apply(lambda arr: sum([1 for x in arr if x[3] == '-' or datetime.strptime(x[3], \"%b %d, %Y\") > datetime.now()])) # currently injured players"
      ],
      "metadata": {
        "id": "30X999MhavBt"
      },
      "execution_count": null,
      "outputs": []
    },
    {
      "cell_type": "markdown",
      "source": [
        "### Feature Cleansing"
      ],
      "metadata": {
        "id": "sIJD2jZKityl"
      }
    },
    {
      "cell_type": "markdown",
      "source": [
        "##### Playing Time\n",
        "\n",
        "It is important that the players within our dataset have at least set foot  onto the field during the current season in order to properly evaluate their risk of injury. "
      ],
      "metadata": {
        "id": "lfLEAbQxWhlh"
      }
    },
    {
      "cell_type": "code",
      "source": [
        "df_injury = df_injury[df_injury['minutes_90s'] != 0]"
      ],
      "metadata": {
        "id": "ml9JFosFWjsj"
      },
      "execution_count": null,
      "outputs": []
    },
    {
      "cell_type": "markdown",
      "source": [
        "##### Position\n",
        "\n",
        "We will use one-hot encoding to represent the different positions of players within our dataset."
      ],
      "metadata": {
        "id": "UAV1AHHdWl-w"
      }
    },
    {
      "cell_type": "code",
      "source": [
        "# alternate position column\n",
        "df_injury['alt_position'] = df_injury['position'].apply(lambda row: row.split(',')[1] if ',' in row else '')\n",
        "df_injury['position'] = df_injury['position'].apply(lambda row: row[0:2])\n",
        "\n",
        "#dummy variables for role data\n",
        "df_injury = pd.get_dummies(df_injury, columns=['position', 'alt_position'])\n",
        "df_injury['position_DF'] = df_injury['position_DF'] + df_injury['alt_position_DF']\n",
        "df_injury['position_MF'] = df_injury['position_MF'] + df_injury['alt_position_MF']\n",
        "df_injury['position_FW'] = df_injury['position_FW'] + df_injury['alt_position_FW']\n",
        "\n",
        "#Drop alternate columns\n",
        "colums_to_drop = [\"alt_position_\", \"alt_position_DF\", \"alt_position_MF\", \"alt_position_FW\"]\n",
        "df_injury.drop(columns = colums_to_drop, inplace = True)\n",
        "df_injury['currently_injured'] = df_injury['currently_injured'].replace(2, 1)"
      ],
      "metadata": {
        "id": "aoBxBEOvWlbV"
      },
      "execution_count": null,
      "outputs": []
    },
    {
      "cell_type": "markdown",
      "source": [
        "##### Age\n",
        "\n",
        "Converting age feature to float64 type."
      ],
      "metadata": {
        "id": "XR6N78sbWptW"
      }
    },
    {
      "cell_type": "code",
      "source": [
        "df_injury['age'] = df_injury['age'].apply(lambda row : float(row[0:2])+(float(row[3:6])/365))"
      ],
      "metadata": {
        "id": "eQ7wZ8t4Wrh6"
      },
      "execution_count": null,
      "outputs": []
    },
    {
      "cell_type": "markdown",
      "source": [
        "##### Non-Usable Features & Renaming"
      ],
      "metadata": {
        "id": "flI5J2L5WsTm"
      }
    },
    {
      "cell_type": "code",
      "source": [
        "# drop non usable features (categorical/ non numerical)\n",
        "colums_to_drop = [\"name\", \"club_x\", \"club_y\", \"Unnamed: 0\", \"birth_year\", \"nationality\", \"injuries\"]\n",
        "df_injury.drop(columns = colums_to_drop, inplace = True)\n",
        "\n",
        "# rename\n",
        "df_injury = df_injury.rename(columns={'aerials_lost,': 'aerials_lost'})\n",
        "df_injury['aerials_lost'] = df_injury['aerials_lost'].apply(lambda row: float(row.replace(',', '')))"
      ],
      "metadata": {
        "id": "hVG7SwGpkJWn"
      },
      "execution_count": null,
      "outputs": []
    },
    {
      "cell_type": "markdown",
      "source": [
        "### Final Dataset Columns"
      ],
      "metadata": {
        "id": "E7knwGkxWzGT"
      }
    },
    {
      "cell_type": "code",
      "source": [
        "df_injury.dtypes"
      ],
      "metadata": {
        "id": "7csRgym-owEe",
        "colab": {
          "base_uri": "https://localhost:8080/"
        },
        "outputId": "e7eeca03-dfe1-4f2b-ca11-31fcaf4d659d"
      },
      "execution_count": null,
      "outputs": [
        {
          "output_type": "execute_result",
          "data": {
            "text/plain": [
              "age                            float64\n",
              "games                          float64\n",
              "games_starts                   float64\n",
              "minutes                        float64\n",
              "cards_yellow                   float64\n",
              "cards_red                      float64\n",
              "minutes_90s                    float64\n",
              "goals                          float64\n",
              "shots                          float64\n",
              "shots_free_kicks               float64\n",
              "passes_completed               float64\n",
              "passes                         float64\n",
              "passes_total_distance          float64\n",
              "passes_progressive_distance    float64\n",
              "passes_short                   float64\n",
              "passes_medium                  float64\n",
              "passes_long                    float64\n",
              "passes_live                    float64\n",
              "passes_dead                    float64\n",
              "passes_free_kicks              float64\n",
              "through_balls                  float64\n",
              "passes_switches                float64\n",
              "crosses                        float64\n",
              "corner_kicks                   float64\n",
              "tackles                        float64\n",
              "tackles_won                    float64\n",
              "dribble_tackles                float64\n",
              "dribbled_past                  float64\n",
              "blocks                         float64\n",
              "interceptions                  float64\n",
              "clearances                     float64\n",
              "errors                         float64\n",
              "touches                        float64\n",
              "touches_live_ball              float64\n",
              "dribbles                       float64\n",
              "miscontrols                    float64\n",
              "dispossessed                   float64\n",
              "passes_received                float64\n",
              "fouls                          float64\n",
              "fouled                         float64\n",
              "ball_recoveries                float64\n",
              "aerials_won                    float64\n",
              "aerials_lost                   float64\n",
              "n_injuries                       int64\n",
              "n_severe_injuries                int64\n",
              "currently_injured                int64\n",
              "position_DF                      uint8\n",
              "position_FW                      uint8\n",
              "position_GK                      uint8\n",
              "position_MF                      uint8\n",
              "dtype: object"
            ]
          },
          "metadata": {},
          "execution_count": 7
        }
      ]
    }
  ]
}