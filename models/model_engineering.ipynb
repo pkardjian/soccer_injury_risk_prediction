{
  "cells": [
    {
      "cell_type": "markdown",
      "source": [
        "# Imports"
      ],
      "metadata": {
        "id": "zd40gQTOZV3Q"
      }
    },
    {
      "cell_type": "markdown",
      "source": [
        "### Libraries & Packages"
      ],
      "metadata": {
        "id": "t32rbbWIZZFT"
      }
    },
    {
      "cell_type": "code",
      "execution_count": 1,
      "metadata": {
        "id": "bDZFOxXRU9nt"
      },
      "outputs": [],
      "source": [
        "import pandas as pd\n",
        "import numpy as np\n",
        "import matplotlib.pyplot as plt\n",
        "\n",
        "\n",
        "# Useful Imports from sklearn\n",
        "from sklearn.cluster import KMeans\n",
        "from sklearn.feature_selection import SelectKBest, f_classif\n",
        "from sklearn.model_selection import train_test_split\n",
        "from sklearn.preprocessing import StandardScaler\n",
        "\n",
        "import warnings\n",
        "warnings.filterwarnings('ignore')"
      ]
    },
    {
      "cell_type": "markdown",
      "source": [
        "### Data"
      ],
      "metadata": {
        "id": "hqXPOXMpZctB"
      }
    },
    {
      "cell_type": "code",
      "source": [
        "import os\n",
        "cwd = os.getcwd()\n",
        "df_injury=pd.read_csv(os.path.join(cwd,'final_data.csv'), index_col=0)\n",
        "df_injury.head()"
      ],
      "metadata": {
        "colab": {
          "base_uri": "https://localhost:8080/",
          "height": 300
        },
        "id": "pbILtHC5ZenB",
        "outputId": "ac500593-4df7-47de-8cf6-9eadc4db48a9"
      },
      "execution_count": 2,
      "outputs": [
        {
          "output_type": "execute_result",
          "data": {
            "text/plain": [
              "         age  games  games_starts  minutes  cards_yellow  cards_red  \\\n",
              "0  29.273973   14.0          14.0   1260.0           0.0        0.0   \n",
              "1  25.534247   12.0           9.0    873.0           0.0        0.0   \n",
              "2  28.498630    4.0           3.0    286.0           0.0        0.0   \n",
              "3  28.495890    9.0           8.0    731.0           1.0        0.0   \n",
              "4  27.767123    8.0           7.0    571.0           0.0        0.0   \n",
              "\n",
              "   minutes_90s  goals  shots  shots_free_kicks  ...  ball_recoveries  \\\n",
              "0         14.0    0.0    0.0               0.0  ...             19.0   \n",
              "1          9.7    0.0    5.0               0.0  ...             41.0   \n",
              "2          3.2    0.0    7.0               0.0  ...             11.0   \n",
              "3          8.1    0.0    5.0               0.0  ...             37.0   \n",
              "4          6.3    0.0    3.0               0.0  ...             24.0   \n",
              "\n",
              "   aerials_won  aerials_lost  n_injuries  n_severe_injuries  \\\n",
              "0          3.0           0.0           6                  0   \n",
              "1         26.0          13.0           4                  0   \n",
              "2         11.0           4.0          14                  4   \n",
              "3         10.0           6.0          15                  1   \n",
              "4         13.0          10.0          10                  1   \n",
              "\n",
              "   currently_injured  position_DF  position_FW  position_GK  position_MF  \n",
              "0                  0            0            0            1            0  \n",
              "1                  0            1            0            0            0  \n",
              "2                  0            1            0            0            0  \n",
              "3                  0            1            0            0            0  \n",
              "4                  0            1            0            0            0  \n",
              "\n",
              "[5 rows x 50 columns]"
            ],
            "text/html": [
              "\n",
              "  <div id=\"df-28d29731-a96c-4601-97d1-eb353d8def74\">\n",
              "    <div class=\"colab-df-container\">\n",
              "      <div>\n",
              "<style scoped>\n",
              "    .dataframe tbody tr th:only-of-type {\n",
              "        vertical-align: middle;\n",
              "    }\n",
              "\n",
              "    .dataframe tbody tr th {\n",
              "        vertical-align: top;\n",
              "    }\n",
              "\n",
              "    .dataframe thead th {\n",
              "        text-align: right;\n",
              "    }\n",
              "</style>\n",
              "<table border=\"1\" class=\"dataframe\">\n",
              "  <thead>\n",
              "    <tr style=\"text-align: right;\">\n",
              "      <th></th>\n",
              "      <th>age</th>\n",
              "      <th>games</th>\n",
              "      <th>games_starts</th>\n",
              "      <th>minutes</th>\n",
              "      <th>cards_yellow</th>\n",
              "      <th>cards_red</th>\n",
              "      <th>minutes_90s</th>\n",
              "      <th>goals</th>\n",
              "      <th>shots</th>\n",
              "      <th>shots_free_kicks</th>\n",
              "      <th>...</th>\n",
              "      <th>ball_recoveries</th>\n",
              "      <th>aerials_won</th>\n",
              "      <th>aerials_lost</th>\n",
              "      <th>n_injuries</th>\n",
              "      <th>n_severe_injuries</th>\n",
              "      <th>currently_injured</th>\n",
              "      <th>position_DF</th>\n",
              "      <th>position_FW</th>\n",
              "      <th>position_GK</th>\n",
              "      <th>position_MF</th>\n",
              "    </tr>\n",
              "  </thead>\n",
              "  <tbody>\n",
              "    <tr>\n",
              "      <th>0</th>\n",
              "      <td>29.273973</td>\n",
              "      <td>14.0</td>\n",
              "      <td>14.0</td>\n",
              "      <td>1260.0</td>\n",
              "      <td>0.0</td>\n",
              "      <td>0.0</td>\n",
              "      <td>14.0</td>\n",
              "      <td>0.0</td>\n",
              "      <td>0.0</td>\n",
              "      <td>0.0</td>\n",
              "      <td>...</td>\n",
              "      <td>19.0</td>\n",
              "      <td>3.0</td>\n",
              "      <td>0.0</td>\n",
              "      <td>6</td>\n",
              "      <td>0</td>\n",
              "      <td>0</td>\n",
              "      <td>0</td>\n",
              "      <td>0</td>\n",
              "      <td>1</td>\n",
              "      <td>0</td>\n",
              "    </tr>\n",
              "    <tr>\n",
              "      <th>1</th>\n",
              "      <td>25.534247</td>\n",
              "      <td>12.0</td>\n",
              "      <td>9.0</td>\n",
              "      <td>873.0</td>\n",
              "      <td>0.0</td>\n",
              "      <td>0.0</td>\n",
              "      <td>9.7</td>\n",
              "      <td>0.0</td>\n",
              "      <td>5.0</td>\n",
              "      <td>0.0</td>\n",
              "      <td>...</td>\n",
              "      <td>41.0</td>\n",
              "      <td>26.0</td>\n",
              "      <td>13.0</td>\n",
              "      <td>4</td>\n",
              "      <td>0</td>\n",
              "      <td>0</td>\n",
              "      <td>1</td>\n",
              "      <td>0</td>\n",
              "      <td>0</td>\n",
              "      <td>0</td>\n",
              "    </tr>\n",
              "    <tr>\n",
              "      <th>2</th>\n",
              "      <td>28.498630</td>\n",
              "      <td>4.0</td>\n",
              "      <td>3.0</td>\n",
              "      <td>286.0</td>\n",
              "      <td>0.0</td>\n",
              "      <td>0.0</td>\n",
              "      <td>3.2</td>\n",
              "      <td>0.0</td>\n",
              "      <td>7.0</td>\n",
              "      <td>0.0</td>\n",
              "      <td>...</td>\n",
              "      <td>11.0</td>\n",
              "      <td>11.0</td>\n",
              "      <td>4.0</td>\n",
              "      <td>14</td>\n",
              "      <td>4</td>\n",
              "      <td>0</td>\n",
              "      <td>1</td>\n",
              "      <td>0</td>\n",
              "      <td>0</td>\n",
              "      <td>0</td>\n",
              "    </tr>\n",
              "    <tr>\n",
              "      <th>3</th>\n",
              "      <td>28.495890</td>\n",
              "      <td>9.0</td>\n",
              "      <td>8.0</td>\n",
              "      <td>731.0</td>\n",
              "      <td>1.0</td>\n",
              "      <td>0.0</td>\n",
              "      <td>8.1</td>\n",
              "      <td>0.0</td>\n",
              "      <td>5.0</td>\n",
              "      <td>0.0</td>\n",
              "      <td>...</td>\n",
              "      <td>37.0</td>\n",
              "      <td>10.0</td>\n",
              "      <td>6.0</td>\n",
              "      <td>15</td>\n",
              "      <td>1</td>\n",
              "      <td>0</td>\n",
              "      <td>1</td>\n",
              "      <td>0</td>\n",
              "      <td>0</td>\n",
              "      <td>0</td>\n",
              "    </tr>\n",
              "    <tr>\n",
              "      <th>4</th>\n",
              "      <td>27.767123</td>\n",
              "      <td>8.0</td>\n",
              "      <td>7.0</td>\n",
              "      <td>571.0</td>\n",
              "      <td>0.0</td>\n",
              "      <td>0.0</td>\n",
              "      <td>6.3</td>\n",
              "      <td>0.0</td>\n",
              "      <td>3.0</td>\n",
              "      <td>0.0</td>\n",
              "      <td>...</td>\n",
              "      <td>24.0</td>\n",
              "      <td>13.0</td>\n",
              "      <td>10.0</td>\n",
              "      <td>10</td>\n",
              "      <td>1</td>\n",
              "      <td>0</td>\n",
              "      <td>1</td>\n",
              "      <td>0</td>\n",
              "      <td>0</td>\n",
              "      <td>0</td>\n",
              "    </tr>\n",
              "  </tbody>\n",
              "</table>\n",
              "<p>5 rows × 50 columns</p>\n",
              "</div>\n",
              "      <button class=\"colab-df-convert\" onclick=\"convertToInteractive('df-28d29731-a96c-4601-97d1-eb353d8def74')\"\n",
              "              title=\"Convert this dataframe to an interactive table.\"\n",
              "              style=\"display:none;\">\n",
              "        \n",
              "  <svg xmlns=\"http://www.w3.org/2000/svg\" height=\"24px\"viewBox=\"0 0 24 24\"\n",
              "       width=\"24px\">\n",
              "    <path d=\"M0 0h24v24H0V0z\" fill=\"none\"/>\n",
              "    <path d=\"M18.56 5.44l.94 2.06.94-2.06 2.06-.94-2.06-.94-.94-2.06-.94 2.06-2.06.94zm-11 1L8.5 8.5l.94-2.06 2.06-.94-2.06-.94L8.5 2.5l-.94 2.06-2.06.94zm10 10l.94 2.06.94-2.06 2.06-.94-2.06-.94-.94-2.06-.94 2.06-2.06.94z\"/><path d=\"M17.41 7.96l-1.37-1.37c-.4-.4-.92-.59-1.43-.59-.52 0-1.04.2-1.43.59L10.3 9.45l-7.72 7.72c-.78.78-.78 2.05 0 2.83L4 21.41c.39.39.9.59 1.41.59.51 0 1.02-.2 1.41-.59l7.78-7.78 2.81-2.81c.8-.78.8-2.07 0-2.86zM5.41 20L4 18.59l7.72-7.72 1.47 1.35L5.41 20z\"/>\n",
              "  </svg>\n",
              "      </button>\n",
              "      \n",
              "  <style>\n",
              "    .colab-df-container {\n",
              "      display:flex;\n",
              "      flex-wrap:wrap;\n",
              "      gap: 12px;\n",
              "    }\n",
              "\n",
              "    .colab-df-convert {\n",
              "      background-color: #E8F0FE;\n",
              "      border: none;\n",
              "      border-radius: 50%;\n",
              "      cursor: pointer;\n",
              "      display: none;\n",
              "      fill: #1967D2;\n",
              "      height: 32px;\n",
              "      padding: 0 0 0 0;\n",
              "      width: 32px;\n",
              "    }\n",
              "\n",
              "    .colab-df-convert:hover {\n",
              "      background-color: #E2EBFA;\n",
              "      box-shadow: 0px 1px 2px rgba(60, 64, 67, 0.3), 0px 1px 3px 1px rgba(60, 64, 67, 0.15);\n",
              "      fill: #174EA6;\n",
              "    }\n",
              "\n",
              "    [theme=dark] .colab-df-convert {\n",
              "      background-color: #3B4455;\n",
              "      fill: #D2E3FC;\n",
              "    }\n",
              "\n",
              "    [theme=dark] .colab-df-convert:hover {\n",
              "      background-color: #434B5C;\n",
              "      box-shadow: 0px 1px 3px 1px rgba(0, 0, 0, 0.15);\n",
              "      filter: drop-shadow(0px 1px 2px rgba(0, 0, 0, 0.3));\n",
              "      fill: #FFFFFF;\n",
              "    }\n",
              "  </style>\n",
              "\n",
              "      <script>\n",
              "        const buttonEl =\n",
              "          document.querySelector('#df-28d29731-a96c-4601-97d1-eb353d8def74 button.colab-df-convert');\n",
              "        buttonEl.style.display =\n",
              "          google.colab.kernel.accessAllowed ? 'block' : 'none';\n",
              "\n",
              "        async function convertToInteractive(key) {\n",
              "          const element = document.querySelector('#df-28d29731-a96c-4601-97d1-eb353d8def74');\n",
              "          const dataTable =\n",
              "            await google.colab.kernel.invokeFunction('convertToInteractive',\n",
              "                                                     [key], {});\n",
              "          if (!dataTable) return;\n",
              "\n",
              "          const docLinkHtml = 'Like what you see? Visit the ' +\n",
              "            '<a target=\"_blank\" href=https://colab.research.google.com/notebooks/data_table.ipynb>data table notebook</a>'\n",
              "            + ' to learn more about interactive tables.';\n",
              "          element.innerHTML = '';\n",
              "          dataTable['output_type'] = 'display_data';\n",
              "          await google.colab.output.renderOutput(dataTable, element);\n",
              "          const docLink = document.createElement('div');\n",
              "          docLink.innerHTML = docLinkHtml;\n",
              "          element.appendChild(docLink);\n",
              "        }\n",
              "      </script>\n",
              "    </div>\n",
              "  </div>\n",
              "  "
            ]
          },
          "metadata": {},
          "execution_count": 2
        }
      ]
    },
    {
      "cell_type": "markdown",
      "metadata": {
        "id": "iVICcfwSJ0jm"
      },
      "source": [
        "# Splitting data into train, test and validation sets"
      ]
    },
    {
      "cell_type": "code",
      "execution_count": 3,
      "metadata": {
        "id": "I4AhoOFxJ-Vm"
      },
      "outputs": [],
      "source": [
        "from sklearn.ensemble import IsolationForest\n",
        "\n",
        "#create test and train sets\n",
        "properties = list(df_injury.columns.values)\n",
        "properties.remove('currently_injured')\n",
        "X = df_injury[properties]\n",
        "y = df_injury['currently_injured']\n",
        "\n",
        "\n",
        "isf = IsolationForest(n_jobs=-1, random_state=1)\n",
        "isf.fit(X, y)\n",
        "preds = isf.predict(X)\n",
        "\n",
        "X['outlier'] = preds\n",
        "X = X.drop(X[X['outlier'] == -1].index)\n",
        "X = X.drop('outlier', axis=1)\n",
        "\n",
        "y = pd.DataFrame(y)\n",
        "y['outlier'] = preds\n",
        "y = y.drop(y[y['outlier'] == -1].index)\n",
        "y = y.drop('outlier', axis=1)\n",
        "y = y['currently_injured'].squeeze()\n",
        "\n",
        "X_train, X_test, y_train, y_test = train_test_split(X, y, train_size=0.80, random_state=1)\n",
        "X_val, X_train, y_val, y_train = train_test_split(X_train, y_train, test_size=0.8, random_state=1)"
      ]
    },
    {
      "cell_type": "markdown",
      "source": [
        "### Fix Class Imbalance"
      ],
      "metadata": {
        "id": "_me0iRYquIAE"
      }
    },
    {
      "cell_type": "code",
      "source": [
        "from imblearn.over_sampling import SMOTE\n",
        "smote = SMOTE(sampling_strategy='auto', n_jobs=-1)\n",
        "X_train, y_train = smote.fit_resample(X_train, y_train)"
      ],
      "metadata": {
        "id": "spiQbXyKr6nS"
      },
      "execution_count": 4,
      "outputs": []
    },
    {
      "cell_type": "markdown",
      "metadata": {
        "id": "LNejV2zSOaIr"
      },
      "source": [
        "# Model Engineering Techniques"
      ]
    },
    {
      "cell_type": "markdown",
      "metadata": {
        "id": "97bSPbOvCecJ"
      },
      "source": [
        "### Feature Engineering"
      ]
    },
    {
      "cell_type": "markdown",
      "metadata": {
        "id": "dkENKPBKFyyc"
      },
      "source": [
        "#### F-score method"
      ]
    },
    {
      "cell_type": "code",
      "execution_count": 5,
      "metadata": {
        "colab": {
          "base_uri": "https://localhost:8080/"
        },
        "id": "XelTf4HiCiEa",
        "outputId": "f287d1f0-a7ef-4761-bf7c-e3c73974d566"
      },
      "outputs": [
        {
          "output_type": "stream",
          "name": "stdout",
          "text": [
            "age * games has an F-score of 286.77\n",
            "\tBetter by a factor of 14541.24 over features in isolation\n",
            "\tThe result is significant (p = [2.65445942e-60])\n",
            "age * position_MF has an F-score of 269.03\n",
            "\tBetter by a factor of 4.21 over features in isolation\n",
            "\tThe result is significant (p = [6.71013689e-57])\n"
          ]
        }
      ],
      "source": [
        "# Create a list of F-values for the existing features\n",
        "feature_F_scores, _ = f_classif(X_train, y_train)\n",
        "\n",
        "# Iterate through each combination of features\n",
        "for f1_index, f1 in enumerate(X_train.columns):\n",
        "  for f2_index, f2 in enumerate(X_train.columns[f1_index + 1:]):\n",
        "    \n",
        "    # Multiply the two features to create a new feature\n",
        "    new_feature = X_train[[f1]].multiply(X_train[f2], axis=0)\n",
        "    # Evaluate F-value of new feature\n",
        "    F_Score_new, p_value_new = f_classif(new_feature, y_train)\n",
        "    # Evaluate the relative improvement of the new feature\n",
        "    F_score_improvement = F_Score_new[0] / max(feature_F_scores[[f1_index, f2_index]])\n",
        "    # Print out features that is sufficiently improved \n",
        "    if F_score_improvement >= 1.5 and F_Score_new[0] >= 250 and p_value_new < 0.05:\n",
        "        '''Note that F_score_improvement >= 1.5 and F_Score_new[0] >= 75 is\n",
        "         relatively arbitrary, and that other values could be used.'''\n",
        "        print(f'{f1} * {f2} has an F-score of {F_Score_new[0]:.2f}')\n",
        "        print(f'\\tBetter by a factor of {F_score_improvement:.2f} over features in isolation')\n",
        "        print(f'\\tThe result is significant (p = {p_value_new})')\n"
      ]
    },
    {
      "cell_type": "markdown",
      "source": [
        "#### Correlation"
      ],
      "metadata": {
        "id": "K4UnGN_hp4Kv"
      }
    },
    {
      "cell_type": "code",
      "execution_count": 6,
      "metadata": {
        "colab": {
          "base_uri": "https://localhost:8080/"
        },
        "id": "DSn-BTHjF6Mk",
        "outputId": "c3ca56b4-bf4b-4345-95b9-1fc86182040e"
      },
      "outputs": [
        {
          "output_type": "stream",
          "name": "stdout",
          "text": [
            "age * n_injuries has a correlation of 0.24 with the target feature\n",
            "\tThe result is significant (p = [1.16488646e-28])\n"
          ]
        }
      ],
      "source": [
        "# Iterate through each combination of features\n",
        "for f1_index, f1 in enumerate(X_train.columns):\n",
        "  for f2_index, f2 in enumerate(X_train.columns[f1_index + 1:]):\n",
        "    # Multiply the two features to create a new feature\n",
        "    new_feature = X_train[[f1]].multiply(X_train[f2], axis=0)\n",
        "    \n",
        "    new_feature_ser = new_feature.iloc[:,0]\n",
        "    corr_val = new_feature_ser.corr(y_train)\n",
        "\n",
        "    # Evaluate F-value of new feature\n",
        "    F_Score_new, p_value_new = f_classif(new_feature, y_train)\n",
        "    if corr_val > 0.2 and p_value_new < 0.05:\n",
        "        print(f'{f1} * {f2} has a correlation of {corr_val:.2f} with the target feature')\n",
        "        print(f'\\tThe result is significant (p = {p_value_new})')\n"
      ]
    },
    {
      "cell_type": "markdown",
      "metadata": {
        "id": "cetg4FyCOSEQ"
      },
      "source": [
        "#### Final selection"
      ]
    },
    {
      "cell_type": "code",
      "execution_count": 7,
      "metadata": {
        "id": "dtbgQqahMcrc"
      },
      "outputs": [],
      "source": [
        "def new_feature_combos(X):\n",
        "    X_new = X.copy()\n",
        "    \n",
        "    X_new['age * n_injuries'] = X_new.n_injuries * X_new.age\n",
        "    X_new['age * games'] = X_new.n_injuries * X_new.age\n",
        "    X_new['age * position_MF'] = X_new.n_injuries * X_new.touches\n",
        "\n",
        "    return X_new\n",
        "\n",
        "X_train = new_feature_combos(X_train)\n",
        "X_test = new_feature_combos(X_test)\n",
        "X_val = new_feature_combos(X_val)"
      ]
    },
    {
      "cell_type": "markdown",
      "metadata": {
        "id": "KyIdGdYcz9j6"
      },
      "source": [
        "### Feature Selection"
      ]
    },
    {
      "cell_type": "code",
      "execution_count": 8,
      "metadata": {
        "id": "ZlteOgT60Bhi",
        "colab": {
          "base_uri": "https://localhost:8080/"
        },
        "outputId": "a1ac1dae-2881-413f-a1e1-448237ac6b82"
      },
      "outputs": [
        {
          "output_type": "stream",
          "name": "stdout",
          "text": [
            "['games' 'games_starts' 'minutes' 'minutes_90s' 'passes_completed'\n",
            " 'passes' 'passes_total_distance' 'passes_short' 'passes_live' 'touches'\n",
            " 'touches_live_ball' 'passes_received' 'ball_recoveries' 'n_injuries'\n",
            " 'position_MF']\n"
          ]
        }
      ],
      "source": [
        "from sklearn.feature_selection import SelectKBest, f_classif\n",
        "\n",
        "selectk = SelectKBest(k=15)\n",
        "X_new_train = selectk.fit(X_train, y_train)\n",
        "X_new_train.transform(X_train)\n",
        "selected_cols = X_new_train.get_feature_names_out()\n",
        "\n",
        "X_train = X_train[selected_cols]\n",
        "X_test = X_test[selected_cols]\n",
        "X_val = X_val[selected_cols]\n",
        "\n",
        "print(selected_cols)"
      ]
    },
    {
      "cell_type": "markdown",
      "source": [
        "### Feature Scaling"
      ],
      "metadata": {
        "id": "Z8gbpX6RtWRn"
      }
    },
    {
      "cell_type": "code",
      "execution_count": 9,
      "metadata": {
        "id": "hYrP_JTTmY1W"
      },
      "outputs": [],
      "source": [
        "from sklearn.preprocessing import StandardScaler\n",
        "\n",
        "technique_name = 'Scaling'\n",
        "\n",
        "def standardize_data(X_train, X_out_of_sample, X_val):\n",
        "    \"\"\"standardizes all of the data in X_train and X_out_of_sample. The mean and\n",
        "    standard deviation of each feature (i.e., each column) from the X_train\n",
        "    data is used to standardize both the X_train and X_out_of sample.\"\"\"\n",
        "\n",
        "    X_train_standardized = X_train.copy()\n",
        "    X_out_of_sample_standardized = X_out_of_sample.copy()\n",
        "    X_val_standardized = X_val.copy() \n",
        "\n",
        "    scaler = StandardScaler()\n",
        "\n",
        "    scaler.fit(X_train) \n",
        "    X_train_standardized = scaler.transform(X_train_standardized)\n",
        "    X_out_of_sample_standardized = scaler.transform(X_out_of_sample_standardized)\n",
        "    X_val_standardized = scaler.transform(X_val_standardized)\n",
        "\n",
        "    return X_train_standardized, X_out_of_sample_standardized, X_val_standardized, scaler\n",
        "\n",
        "# Make new data that is scaled\n",
        "X_train, X_test, X_val, scaler = standardize_data(X_train, X_test, X_val)"
      ]
    },
    {
      "cell_type": "markdown",
      "source": [
        "# Download Final Data"
      ],
      "metadata": {
        "id": "v6mS1Aixtpvi"
      }
    },
    {
      "cell_type": "code",
      "source": [
        "# Feature data stored in np arrays so must convert back to df.\n",
        "pd.DataFrame(data=X_train).to_csv('X_train.csv')\n",
        "pd.DataFrame(data=X_test).to_csv('X_test.csv')\n",
        "pd.DataFrame(data=X_val).to_csv('X_val.csv')\n",
        "y_train.to_csv('y_train.csv')\n",
        "y_test.to_csv('y_test.csv')\n",
        "y_val.to_csv('y_val.csv')"
      ],
      "metadata": {
        "id": "tq8z_o04to6Z"
      },
      "execution_count": 14,
      "outputs": []
    }
  ],
  "metadata": {
    "colab": {
      "provenance": []
    },
    "kernelspec": {
      "display_name": "Python 3",
      "name": "python3"
    },
    "language_info": {
      "name": "python"
    }
  },
  "nbformat": 4,
  "nbformat_minor": 0
}